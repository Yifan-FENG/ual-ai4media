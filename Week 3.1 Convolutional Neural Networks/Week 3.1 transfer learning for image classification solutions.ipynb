{
  "cells": [
    {
      "cell_type": "markdown",
      "metadata": {
        "id": "AUQYSs-OH0xj"
      },
      "source": [
        "# Image classification using transfer learning - solutions\n",
        "\n",
        "This notebook is very similiar to the other notebook used for teaching in this class, however in this notebook we will be performing *transfer learning*. This means instead of training a CNN from scratch, for most of the weights of the network we will be using pre-trained weights trained on another dataset. This is surprisingly effective, especially when using pre-trained weights from a very large and general purpose dataset like imagenet. \n",
        "\n",
        "Because we are not training all the weights from scratch, we can use significantly larger images in this notebook while still being able to train a model quickly.\n",
        "\n",
        "Just like the other notebook we will be using our own custom datasets for training this classifier."
      ]
    },
    {
      "cell_type": "markdown",
      "metadata": {
        "id": "lBygfyY9H0xl"
      },
      "source": [
        "## Setup"
      ]
    },
    {
      "cell_type": "code",
      "execution_count": null,
      "metadata": {
        "id": "mvM5TJXOH0xl"
      },
      "outputs": [],
      "source": [
        "import tensorflow as tf\n",
        "from tensorflow import keras\n",
        "from tensorflow.keras import layers"
      ]
    },
    {
      "cell_type": "markdown",
      "metadata": {
        "id": "70fwLDjTH0xn"
      },
      "source": [
        "## Load your dataset\n",
        "\n",
        "To train a classification model, we need a dataset of images where different categories of images are organised into classes. This is as simple as putting images of different things into different folder.\n",
        "i.e:\n",
        "```\n",
        "my_dataset/clouds/cloud_0001.jpg\n",
        "my_dataset/clouds/cloud_0002.jpg\n",
        "..\n",
        "my_dataset/candy_floss/cfloss_0001.jpg\n",
        "my_dataset/candy_floss/cfloss_0002.jpg\n",
        "```\n",
        "\n",
        "There are plenty of classification datasets on the internet but it's more fun and more of a challenge to train a classifier on a dataset that we have made ourselves. Why don't you take the image dataset you made in the last session and use that! You may need to add an extra category for classification if you only had one category images previously. You can refer back to [last weeks instructions](https://moodle.arts.ac.uk/mod/page/view.php?id=954147) if you get stuck. All you need to do is put some new images in a different folder, and then put both those folders into a folder for the whole dataset. You don't need to worry about resizing all the images for this task as keras will take care of image resizing for us.\n",
        "\n",
        "Once you have got your dataset, change the path in the `dataset_path` variable to the path to your dataset.s"
      ]
    },
    {
      "cell_type": "code",
      "execution_count": null,
      "metadata": {
        "id": "3AV2pePvH0xn"
      },
      "outputs": [],
      "source": [
        "image_size = (150, 150)\n",
        "batch_size = 128\n",
        "num_classes = 2\n",
        "dataset_path = 'path/to/dataset'\n",
        "\n",
        "train = tf.keras.utils.image_dataset_from_directory(\n",
        "    dataset_path,\n",
        "    validation_split=0.2,\n",
        "    subset='training',\n",
        "    seed=1,\n",
        "    image_size=image_size,\n",
        "    batch_size=batch_size,\n",
        ")\n",
        "\n",
        "validation = tf.keras.utils.image_dataset_from_directory(\n",
        "    dataset_path,\n",
        "    validation_split=0.2,\n",
        "    subset='validation',\n",
        "    seed=1,\n",
        "    image_size=image_size,\n",
        "    batch_size=batch_size,\n",
        ")"
      ]
    },
    {
      "cell_type": "markdown",
      "metadata": {
        "id": "k2NcN4TUH0xn"
      },
      "source": [
        "## Visualize the data\n",
        "\n",
        "This will show you some samples from your data. The numbers are the class indexes used by the model for classification."
      ]
    },
    {
      "cell_type": "code",
      "execution_count": null,
      "metadata": {
        "id": "rOfxqZi7H0xo"
      },
      "outputs": [],
      "source": [
        "import matplotlib.pyplot as plt\n",
        "\n",
        "plt.figure(figsize=(10, 10))\n",
        "for images, labels in train.take(1):\n",
        "    for i in range(9):\n",
        "        ax = plt.subplot(3, 3, i + 1)\n",
        "        plt.imshow(images[i].numpy().astype(\"uint8\"))\n",
        "        plt.title(int(labels[i]))\n",
        "        plt.axis(\"off\")"
      ]
    },
    {
      "cell_type": "markdown",
      "metadata": {},
      "source": [
        "## Load existing model"
      ]
    },
    {
      "cell_type": "code",
      "execution_count": null,
      "metadata": {},
      "outputs": [],
      "source": [
        "#Change MobileNet for EfficientNet\n",
        "base_model = keras.applications.EfficientNetB0(\n",
        "    weights='imagenet',  # Load weights pre-trained on ImageNet.\n",
        "    input_shape=(150, 150, 3),\n",
        "    include_top=False)  # Do not include the ImageNet classifier at the top."
      ]
    },
    {
      "cell_type": "code",
      "execution_count": null,
      "metadata": {},
      "outputs": [],
      "source": [
        "base_model.trainable = False"
      ]
    },
    {
      "cell_type": "code",
      "execution_count": null,
      "metadata": {},
      "outputs": [],
      "source": [
        "inputs = keras.Input(shape=(150, 150, 3))\n",
        "# We make sure that the base_model is running in inference mode here,\n",
        "# by passing `training=False`. This is important for fine-tuning, as you will\n",
        "# learn in a few paragraphs.\n",
        "x = base_model(inputs, training=False)\n",
        "# Convert features of shape `base_model.output_shape[1:]` to vectors\n",
        "x = keras.layers.GlobalAveragePooling2D()(x)\n",
        "# A Dense classifier with a single unit (binary classification)\n",
        "if num_classes == 2:\n",
        "    outputs = keras.layers.Dense(1)(x)\n",
        "else:\n",
        "    outputs = keras.layers.Dense(num_classes)(x)\n",
        "model = keras.Model(inputs, outputs)"
      ]
    },
    {
      "cell_type": "markdown",
      "metadata": {
        "id": "fTEBpe4lH0xp"
      },
      "source": [
        "## Train the model"
      ]
    },
    {
      "cell_type": "code",
      "execution_count": null,
      "metadata": {
        "id": "pBwLBANaH0xp"
      },
      "outputs": [],
      "source": [
        "epochs = 10\n",
        "if num_classes == 2:\n",
        "    loss_function = \"binary_crossentropy\"\n",
        "else:\n",
        "    loss_function = \"categorical_crossentropy\"\n",
        "\n",
        "model.compile(\n",
        "    optimizer=keras.optimizers.Adam(1e-3),\n",
        "    loss=loss_function,\n",
        "    metrics=[\"accuracy\"],\n",
        ")\n",
        "model.fit(\n",
        "    train,\n",
        "    epochs=epochs,\n",
        "    validation_data=validation,\n",
        ")"
      ]
    },
    {
      "cell_type": "markdown",
      "metadata": {},
      "source": [
        "### Optional: save the model\n",
        "This is how we save the weights of the model for savekeeping"
      ]
    },
    {
      "cell_type": "code",
      "execution_count": null,
      "metadata": {},
      "outputs": [],
      "source": [
        "model.save('classifer_transfer_learned.model')"
      ]
    },
    {
      "cell_type": "markdown",
      "metadata": {},
      "source": [
        "### Next steps\n",
        "Look at the [available models on the keras API website](https://keras.io/api/applications/#available-models) and try changing the code in this notebook to work with a different pretrained model. **Warning** some bigger CNN models will take a lot longer to train than the MobileNet model used in this notebook. You may want to make sure your laptop is plugged in before training some of these models!\n",
        "\n",
        "### Bonus exercise\n",
        "Look at [this Keras tutorial for transfer learning](https://keras.io/guides/transfer_learning/), read through the code and see if you can integrate the portion of the code that performs fine-tuning on the model (training all of the layers) after fine-tuning into this code notebook. Then perform a second round of training with your transfer learned model to further fine-tune it to your dataset."
      ]
    },
    {
      "cell_type": "code",
      "execution_count": null,
      "metadata": {},
      "outputs": [],
      "source": [
        "base_model.trainable = True\n",
        "model.summary()\n",
        "\n",
        "model.compile(\n",
        "    optimizer=keras.optimizers.Adam(1e-5),  # Low learning rate\n",
        "    loss=loss_function,\n",
        "    metrics=[\"accuracy\"],\n",
        ")\n",
        "\n",
        "epochs = 10\n",
        "model.fit(train, epochs=epochs, validation_data=validation)"
      ]
    },
    {
      "cell_type": "code",
      "execution_count": null,
      "metadata": {},
      "outputs": [],
      "source": [
        "model.save('classifer_fine_tuned.model')"
      ]
    }
  ],
  "metadata": {
    "accelerator": "GPU",
    "colab": {
      "name": "image_classification_from_scratch",
      "provenance": [],
      "toc_visible": true
    },
    "kernelspec": {
      "display_name": "Python 3.9.15 ('aim_week3')",
      "language": "python",
      "name": "python3"
    },
    "language_info": {
      "codemirror_mode": {
        "name": "ipython",
        "version": 3
      },
      "file_extension": ".py",
      "mimetype": "text/x-python",
      "name": "python",
      "nbconvert_exporter": "python",
      "pygments_lexer": "ipython3",
      "version": "3.9.15"
    },
    "vscode": {
      "interpreter": {
        "hash": "b7f6b83f8c63488afc271070561874a11a039d471dfbe07d7ca18d88af4be80a"
      }
    }
  },
  "nbformat": 4,
  "nbformat_minor": 0
}
